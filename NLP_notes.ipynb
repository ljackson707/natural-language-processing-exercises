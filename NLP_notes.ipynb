{
 "cells": [
  {
   "cell_type": "markdown",
   "metadata": {},
   "source": [
    "# NLP DataFlow\n",
    "\n",
    "\n",
    "### Wrangle\n",
    "Acquire --> ex.com --> (Requests for HTML, Beatufiul Soup to parse HTML)\n",
    "\n",
    "Prepare --> (Normailization, (stem or limitize)) --> (Remove stop words (of, and, the, etc.))\n",
    "\n",
    "### Explore\n",
    "Explore --> (Term-frequencies, (N-grams: bi_gram == two word phrase, tri_gram == three word pharse.)), (Word Clouds)\n",
    "\n",
    "### Model\n",
    "modeling --> (TF-IDF (term frequency inverse document frequency: metric that indicates how frequent a word in on document reletive to other documents)) (Low score with more common words) (Bag of Words) --> (Classifiers) \n",
    "\n",
    "\n",
    "# Vocab\n",
    " - Document: single observation\n",
    " - Token: single liguistic unit\n",
    "     - Corpus --> Document --> Token\n",
    " - Limas: "
   ]
  },
  {
   "cell_type": "code",
   "execution_count": null,
   "metadata": {},
   "outputs": [],
   "source": []
  }
 ],
 "metadata": {
  "kernelspec": {
   "display_name": "Python 3",
   "language": "python",
   "name": "python3"
  },
  "language_info": {
   "codemirror_mode": {
    "name": "ipython",
    "version": 3
   },
   "file_extension": ".py",
   "mimetype": "text/x-python",
   "name": "python",
   "nbconvert_exporter": "python",
   "pygments_lexer": "ipython3",
   "version": "3.8.5"
  }
 },
 "nbformat": 4,
 "nbformat_minor": 4
}
